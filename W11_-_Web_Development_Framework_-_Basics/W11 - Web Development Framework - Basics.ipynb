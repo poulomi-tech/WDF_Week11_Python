{
 "cells": [
  {
   "cell_type": "markdown",
   "id": "44e349ee",
   "metadata": {
    "id": "44e349ee"
   },
   "source": [
    "# Web Development Framework"
   ]
  },
  {
   "cell_type": "markdown",
   "id": "c297ee37",
   "metadata": {
    "id": "c297ee37"
   },
   "source": [
    "## Agenda\n",
    "- Understanding APIs and need of it\n",
    "   - Introduction to flask framework\n",
    "   - Important features of flask\n",
    "   - Real world applications of flask\n",
    "   - Django Vs Flask Vs FastAPI\n",
    "- Setup\n",
    "   - Setup the virtual environment and install flask\n",
    "- First Application\n",
    "   - Running the flask application\n",
    "- Routing \n",
    "   - Passing values\n",
    "   - Query string\n",
    "- Forms \n",
    "   - Rendering data\n",
    "   - Accepting input"
   ]
  },
  {
   "cell_type": "markdown",
   "id": "b38b19a8",
   "metadata": {
    "id": "b38b19a8"
   },
   "source": [
    "### <font color=blue>1. Understanding APIs</font>\n",
    "\n",
    "- **API** stands for Application Programming Interface.\n",
    "- It can be defined as a set of rules that defines as how two applications can interact with each other. Such APIs act as a mediator between the server and the client. \n",
    "- In this case the client which is requesting for some information and server is a application that provides the required output. \n",
    "- Consider an example that you pass on a pincode to ```google maps``` via an API and it provides traffic information of that area. \n",
    "\n",
    "### <font color=blue>1.1 Need of APIs</font>\n",
    "- To serve various business specific requirements.\n",
    "- Serve as broker to provide capabilities of one system to other system/s.\n",
    "- It allows to create distributed systems\n",
    "- It reduces retask which is already available as an APIProprietary content.\n"
   ]
  },
  {
   "cell_type": "markdown",
   "id": "034f4fc2",
   "metadata": {
    "id": "034f4fc2"
   },
   "source": [
    "### <font color=blue>1.2 Flask Framework</font>\n",
    "- Flask as micro web framework written in Python.\n",
    "- It has no database abstraction layer, form validation, or any other components where pre-existing third-party libraries provide common functions.\n",
    "- It makes the process of designing a web application simpler. Flask lets us focus on what the users are requesting and what sort of response to give back.\n",
    "- Flask framework enabled code lets us run a basic web application that we can serve, as if it were a website.\n",
    "- Now when we say it is a website, we can obviously perform verious HTTP calls such as GET/POST/UPDATE/DELETE etc. \n",
    "\n",
    "### <font color=blue>1.3 Some of the most important features of flask are mentioned below:</font>\n",
    "- Development server and debugger\n",
    "- Integrated unit testing\n",
    "- Request dispatching (RESTful APIs)\n",
    "- Jinja templates\n",
    "- Secure cookies\n",
    "- Google App Engine\n",
    "\n",
    "### <font color=blue>1.4 Real World applications of Flask API's</font>\n",
    "- Development of Web Applications\n",
    "- Development of Machine Learning applications.\n",
    "- Web pages, blogs.\n",
    "- Commerical websites.\n",
    "- Netflix uses Flask API's to bind all of the previous segments together.\n",
    "\n",
    "\n",
    "### <font color=blue>1.5 Django vs Flask vs Fast API</font>\n",
    "- **Packages** :Django has many packages as compared to Flask and FastAPI. Django mostly used for full stack web application development.\n",
    "- **Community wise** :Django > Flask > FastAPI\n",
    "- **Performance** :FastAPI > Flask > Django\n",
    "- **Flexibility** :Flask > FastAPI > Django"
   ]
  },
  {
   "cell_type": "markdown",
   "id": "c572088f",
   "metadata": {
    "id": "c572088f"
   },
   "source": [
    "### <font color=blue>2. Setup</font>\n",
    "- A **virtual environment** is a tool that helps to keep dependencies required by different projects separate by creating isolated python virtual environments for them.\n",
    "- Helps to create isolation of environment needed to run python applications. \n",
    "- Each project can have its own set of dependencies regardless of the other projects."
   ]
  },
  {
   "cell_type": "markdown",
   "id": "89d4fbbe",
   "metadata": {
    "id": "89d4fbbe"
   },
   "source": [
    "To start with the Flask application ensure that you have the setup ready with you. Following is the list of things you should do,\n",
    "1. Create a **new folder/new project** using **Visual Studio code/Pycharm**. *Ensure that you are using a virtual environment* \n",
    "2. Once the **folder/project** is created, install ```flask``` using the project settings.  "
   ]
  },
  {
   "cell_type": "markdown",
   "id": "052fbbfc",
   "metadata": {
    "id": "052fbbfc"
   },
   "source": [
    "### <Font color=blue>3. First Application </font>"
   ]
  },
  {
   "cell_type": "markdown",
   "id": "bfbcc6da",
   "metadata": {
    "id": "bfbcc6da"
   },
   "source": [
    "Create a file ***first_app.py*** and copy the following code in the file. *You can give any name to the file.*  "
   ]
  },
  {
   "cell_type": "code",
   "execution_count": null,
   "id": "2af266b6",
   "metadata": {
    "id": "2af266b6"
   },
   "outputs": [],
   "source": [
    "from flask import Flask\n",
    "\n",
    "app = Flask(__name__)\n",
    "\n",
    "\n",
    "@app.route('/')\n",
    "def hello():\n",
    "    return '<h1>Welcome to Flask Session!</h1>'\n",
    "\n",
    "\n",
    "if __name__ == \"__main__\":\n",
    "    app.run(debug=True)"
   ]
  },
  {
   "cell_type": "markdown",
   "id": "7d29390c",
   "metadata": {
    "id": "7d29390c"
   },
   "source": [
    "From the Visual studio/pycharm menu, ***Run*** the application, it will show ```Running on http://127.0.0.1:5000/ (Press CTRL+C to quit)```. Click on the link and the application starts to run."
   ]
  },
  {
   "cell_type": "markdown",
   "id": "215fbb51",
   "metadata": {
    "id": "215fbb51"
   },
   "source": [
    "#### <Font color=blue>Run application from command prompt </font>"
   ]
  },
  {
   "cell_type": "markdown",
   "id": "1998e9da",
   "metadata": {
    "id": "1998e9da"
   },
   "source": [
    "Open a command window.  \n",
    "Go to the project directory.  \n",
    "From the Scripts folder run the script ```activate.bat```  \n",
    "Set the following environment variables.  \n",
    "a. ```set FLASK_APP=first_app```  \n",
    "b. ```set FLASK_ENV=development```  \n",
    "Execute the command ```flask run```"
   ]
  },
  {
   "cell_type": "markdown",
   "id": "d97766a7",
   "metadata": {
    "id": "d97766a7"
   },
   "source": [
    "So what did that code do?\n",
    "\n",
    "First we imported the ***Flask*** class. An instance of this class will be our ***WSGI*** application.\n",
    "\n",
    "Next we create an instance of this class. The first argument is the name of the application's module or package. ***\\_\\_name\\_\\_*** is a convenient shortcut for this that is appropriate for most cases. This is needed so that Flask knows where to look for resources such as templates and static files.\n",
    "\n",
    "We then use the ***route()*** decorator to tell Flask what URL should trigger our function.  \n",
    "With the ```route(/)``` we are registering a function ```hello()```. Since we have registered ```/``` which is homepage of application, it execute the function```hello``` when we start the application.  \n",
    "*We call these functions as view functions.*  \n",
    "\n",
    "The function returns the message we want to display in the user's browser. The default content type is HTML, so HTML in the string will be rendered by the browser.  \n",
    "\n",
    "<font size=1 >From the documentation -  https://flask.palletsprojects.com/en/2.0.x/quickstart/#a-minimal-application</font>"
   ]
  },
  {
   "cell_type": "markdown",
   "id": "5e3f9519",
   "metadata": {
    "id": "5e3f9519"
   },
   "source": [
    "### <font color=blue>4. Routing </font>"
   ]
  },
  {
   "cell_type": "markdown",
   "id": "fdc4b76c",
   "metadata": {
    "id": "fdc4b76c"
   },
   "source": [
    "Imagine that you are developing a Web application. And for this you need many different pages.  \n",
    "For each page to be displayed, there has to be a corresponding URL mapping.  \n",
    "*In the above code we mapped ```/``` with the function ```hello()```*  \n",
    "\n",
    "So for example, we like to have 2 pages for our application. A \"welcome page\" and \"About Me\". And to implement this we do the following code change(s)..."
   ]
  },
  {
   "cell_type": "markdown",
   "id": "8ba778e7",
   "metadata": {
    "id": "8ba778e7"
   },
   "source": [
    "In the file ***first_app.py*** add the following functions... "
   ]
  },
  {
   "cell_type": "code",
   "execution_count": null,
   "id": "234071e0",
   "metadata": {
    "id": "234071e0"
   },
   "outputs": [],
   "source": [
    "@app.route('/welcome')\n",
    "def welcome():\n",
    "    return '<h1>You are at the welcome page</h1>'\n",
    "\n",
    "\n",
    "@app.route('/about_me')\n",
    "def about_me():\n",
    "    return '<h1>You are at about me page</h1>'"
   ]
  },
  {
   "cell_type": "markdown",
   "id": "64b1e6bb",
   "metadata": {
    "id": "64b1e6bb"
   },
   "source": [
    "In the above code, we have defined 2 more URLs ```/welcome``` and ```/about_me``` using the decorator ```app.route().```  \n",
    "Against these 2 URLs, I have also registered two functions ```welcome()``` and ```about_me()``` respectively.  \n",
    "When a user types the address ```http://127.0.0.1:5000/welcome```, the application will execute the function ```welcome()```    \n",
    "\n",
    "<div class=\"alert alert-block alert-info\">\n",
    "<b><i>Note:</i></b> the functions return HTML Code. It is an HTML page with just one line. With an intention of explaining the flow. The purpose of these functions is to render an HTML page which is displayed on a browser.  We will see more details in some time.  \n",
    "</div>"
   ]
  },
  {
   "cell_type": "markdown",
   "id": "2a32eedd",
   "metadata": {
    "id": "2a32eedd"
   },
   "source": [
    "<div class=\"alert alert-block alert-info\">\n",
    "While defining the function, I use similar route and function names. This is for easy management. You, however can use any function name or URL name.  <br> \n",
    "    It is always good to use easily understandable names.\n",
    "</div>"
   ]
  },
  {
   "cell_type": "markdown",
   "id": "d029d416",
   "metadata": {
    "id": "d029d416"
   },
   "source": [
    "#### <Font color=blue>4.1 Routing - passing values </font>"
   ]
  },
  {
   "cell_type": "markdown",
   "id": "17d2df1c",
   "metadata": {
    "id": "17d2df1c"
   },
   "source": [
    "In the file ***first_app.py*** add the following functions... "
   ]
  },
  {
   "cell_type": "code",
   "execution_count": null,
   "id": "f3a1deab",
   "metadata": {
    "id": "f3a1deab"
   },
   "outputs": [],
   "source": [
    "@app.route('/user/<string:name>')\n",
    "def user_with_name(name):\n",
    "    return f'<H1>Hello {name}. Welcome to the Flask Course.</H1>'\n",
    "\n",
    "@app.route('/user/<int:sessions>')\n",
    "def user_with_sessions(sessions):\n",
    "    return f'<H1>Hello user. You have completed {sessions} sessions of this course.</H1>'"
   ]
  },
  {
   "cell_type": "markdown",
   "id": "fd397b87",
   "metadata": {
    "id": "fd397b87"
   },
   "source": [
    "In the above code we have passed a parameter to the view functions.  \n",
    "In the first instance we have passed a string. And in the second we have passed an integer. And we can use these values in the function.  \n",
    "A use case for this is, consider you want to search for a particular record, then you can get this value from a user. \n",
    "\n",
    "Calling convention is http://127.0.0.1:5000/user/Sunil and http://127.0.0.1:5000/user/20\n",
    "    \n",
    "***Note*** if required, you can pass more than one parameter as well. "
   ]
  },
  {
   "cell_type": "markdown",
   "id": "a14f35cd",
   "metadata": {
    "id": "a14f35cd"
   },
   "source": [
    "<div class=\"alert alert-block alert-warning\">\n",
    "If a URL that accepts a parameter is called without passing a parameter, it will throw an error. \n",
    "</div>"
   ]
  },
  {
   "cell_type": "markdown",
   "id": "c76ad34c",
   "metadata": {
    "id": "c76ad34c"
   },
   "source": [
    "<div class=\"alert alert-block alert-info\">\n",
    "<b><i>Note:</i></b> In either cases the parameter is mentioned within <>.  <br>\n",
    "    The expected data type and the name of the parameters are separated by a : <br>\n",
    "    There is no space on either side of : <br>\n",
    "    The parameter name in the view function is identical to the identifier we mentioned in @app.route() \n",
    "</div>"
   ]
  },
  {
   "cell_type": "markdown",
   "id": "5234a90b",
   "metadata": {
    "id": "5234a90b"
   },
   "source": [
    "#### <Font color=blue>4.2 Routing - query string </font>"
   ]
  },
  {
   "cell_type": "code",
   "execution_count": null,
   "id": "fbc03567",
   "metadata": {
    "id": "fbc03567"
   },
   "outputs": [],
   "source": [
    "from flask import request\n",
    "\n",
    "\n",
    "@app.route('/query_string')\n",
    "def query_string():\n",
    "    user = request.args.get('user')\n",
    "    query = request.args.get('query')\n",
    "    return f'<H1>Query from {user} regarding {query}</H1>'"
   ]
  },
  {
   "cell_type": "markdown",
   "id": "cb2a5aa9",
   "metadata": {
    "id": "cb2a5aa9"
   },
   "source": [
    "Calling convention is  - http://127.0.0.1:5000/query_string?user=Sunil&query=Give%20me%20the%20best%20available%20course%20on%20Flask"
   ]
  },
  {
   "cell_type": "markdown",
   "id": "41f0c305",
   "metadata": {
    "id": "41f0c305"
   },
   "source": [
    "After ```query_string``` we put a ```?``` which indicates the beginning of a query string.  \n",
    "It is mentioned as key=value pair, each key-value pair is segregated by an ```&.```   \n",
    "In the above example we passed...  \n",
    "user=Sunil&query=Give me the best available course on Flask.  \n"
   ]
  },
  {
   "cell_type": "markdown",
   "id": "e39b79fe",
   "metadata": {
    "id": "e39b79fe"
   },
   "source": [
    "The view function, in such a case is aware that it expects additional data in key-value pair. And is capable of extracting data from the keys.  \n",
    "In case a wrong key is mentioned its data will not be used by a view function.   \n",
    "In case a key is not passed, then its corresponding value will be ```None```"
   ]
  },
  {
   "cell_type": "markdown",
   "id": "8ac3a272",
   "metadata": {
    "id": "8ac3a272"
   },
   "source": [
    "<div class=\"alert alert-block alert-info\">\n",
    "<b><i>Note:</i></b> In the view function <b>request</b> is an object of class <b>Request</b>.  <br>\n",
    "    Whenever we open a  page on a site, we are making a request to the site to open a page.  <br>\n",
    "    Flask parses an incoming request and provides this information to a view function via this global object <br>\n",
    "    And whichever view function needs an access to this data can use the <b>request</b> object. \n",
    "</div>"
   ]
  },
  {
   "cell_type": "markdown",
   "id": "27341304",
   "metadata": {
    "id": "27341304"
   },
   "source": [
    "<div class=\"alert alert-block alert-info\">\n",
    "<b><i>Note:</i></b> Do read about the <b>request</b> object separately in Flask documentation.\n",
    "</div>"
   ]
  },
  {
   "cell_type": "markdown",
   "id": "c0ec9c9e",
   "metadata": {
    "id": "c0ec9c9e"
   },
   "source": [
    "### <font color=blue>5. Forms </font>"
   ]
  },
  {
   "cell_type": "markdown",
   "id": "1c9ff8d2",
   "metadata": {
    "id": "1c9ff8d2"
   },
   "source": [
    "So far we have seen that in the view functions we return an HTML code. Which is just one string. And it is good to explain the work flow.  \n",
    "In actual applications, these view functions, implement an application logic.   \n",
    "Based on this logic it either update / insert / delete the data and finally shows some data or information to an end user.  \n",
    "This display of the information is done using forms. HTML pages.  \n",
    "Now instead of just showing one line we will show more details on browser. And for this for each view function, we will create a corresponding HTML form and use this form to display the required information on browser.  \n",
    "\n"
   ]
  },
  {
   "cell_type": "markdown",
   "id": "f160e928",
   "metadata": {
    "id": "f160e928"
   },
   "source": [
    "#### <font color=blue>5.1 Forms - Rendering data </font>"
   ]
  },
  {
   "cell_type": "markdown",
   "id": "7365b601",
   "metadata": {
    "id": "7365b601"
   },
   "source": [
    "Create a new folder ***templates*** in the folder where file ***first_app.py*** resides."
   ]
  },
  {
   "cell_type": "markdown",
   "id": "a8bc368f",
   "metadata": {
    "id": "a8bc368f"
   },
   "source": [
    "Now create a file ***templates/user_form.html*** and add the following code in it."
   ]
  },
  {
   "cell_type": "code",
   "execution_count": null,
   "id": "2146398a",
   "metadata": {
    "id": "2146398a"
   },
   "outputs": [],
   "source": [
    "<!DOCTYPE html>\n",
    "<html lang=\"en\">\n",
    "<head>\n",
    "    <meta charset=\"UTF-8\">\n",
    "    <title>User Details</title>\n",
    "</head>\n",
    "<body>\n",
    "<h1>HTML Form</h1>\n",
    "    <H3>Hello {{ name }}. Welcome to the Flask Course.</H3>\n",
    "</body>\n",
    "</html>"
   ]
  },
  {
   "cell_type": "markdown",
   "id": "acf6e870",
   "metadata": {
    "id": "acf6e870"
   },
   "source": [
    "Here we have created an HTML page. And this page displays the ```name``` that is passed to this page through its view function.   "
   ]
  },
  {
   "cell_type": "markdown",
   "id": "fafc85b5",
   "metadata": {
    "id": "fafc85b5"
   },
   "source": [
    "In the file ***first_app.py*** add the following function... "
   ]
  },
  {
   "cell_type": "code",
   "execution_count": null,
   "id": "bb85ec19",
   "metadata": {
    "id": "bb85ec19"
   },
   "outputs": [],
   "source": [
    "from flask import render_template\n",
    "\n",
    "@app.route('/user_form/<string:name>')\n",
    "def user_form_with_name(name):\n",
    "    return render_template(\"user_form.html\", name=name)"
   ]
  },
  {
   "cell_type": "markdown",
   "id": "c097fc3b",
   "metadata": {
    "id": "c097fc3b"
   },
   "source": [
    "In the above code, are returning the output of the function ```render_template()```.  \n",
    "This function accepts an input of an HTML page and it is the same page that we have created above.  \n",
    "This function looks for the mentioned page under templates folder.  This is the reason we created this HTML form under templates folder.  \n",
    "\n",
    "We also have passed a context ```name``` to this function. This function will replace the ```{{ name }}``` existing in the HTML form with the value of ```name```. And finally will returns a rendered HTML page in the form of a string.   \n",
    "\n",
    "It is same as we did earlier - ```return f'<H1>Hello {name}. Welcome to the Flask Course.</H1>'``` from the function  ```user_with_name()```"
   ]
  },
  {
   "cell_type": "markdown",
   "id": "41352542",
   "metadata": {
    "id": "41352542"
   },
   "source": [
    "For more details as how Flask does this replacement refer the link - https://jinja.palletsprojects.com/en/3.0.x/templates/#template-designer-documentation"
   ]
  },
  {
   "cell_type": "markdown",
   "id": "24ef433c",
   "metadata": {
    "id": "24ef433c"
   },
   "source": [
    "#### <font color=blue>5.2 Forms - Accepting data </font>"
   ]
  },
  {
   "cell_type": "markdown",
   "id": "c377c928",
   "metadata": {
    "id": "c377c928"
   },
   "source": [
    "Now create a file ***templates/accept_user_input.html*** and add the following code in it. This will help us to gather input from a user."
   ]
  },
  {
   "cell_type": "code",
   "execution_count": null,
   "id": "f5c47d95",
   "metadata": {
    "id": "f5c47d95"
   },
   "outputs": [],
   "source": [
    "<!DOCTYPE html>\n",
    "<html lang=\"en\">\n",
    "<head>\n",
    "    <meta charset=\"UTF-8\">\n",
    "    <title>The form</title>\n",
    "</head>\n",
    "<body>\n",
    "<h1>Now from the HTML file</h1>\n",
    "    <form method=\"POST\">\n",
    "        <input type=\"text\" label='Enter Some text' name=\"some_text\">\n",
    "        <input type=\"submit\" value=\"Submit\">\n",
    "    </form>\n",
    "</body>\n",
    "</html>"
   ]
  },
  {
   "cell_type": "markdown",
   "id": "4acd86d1",
   "metadata": {
    "id": "4acd86d1"
   },
   "source": [
    "In the above HTML page, it shows a form that accepts a user input.  \n",
    "Whatever the text a user types in and press ```Submit``` button, this text will be stored in the key-value format.  \n",
    "Key being the ```name='sometext'```.  This key-value pair will be available in the ```request``` object when a user presses a ```Submit``` button."
   ]
  },
  {
   "cell_type": "markdown",
   "id": "9d1ba3c1",
   "metadata": {
    "id": "9d1ba3c1"
   },
   "source": [
    "In the file ***first_app.py*** add the following function... "
   ]
  },
  {
   "cell_type": "code",
   "execution_count": null,
   "id": "b9d43450",
   "metadata": {
    "id": "b9d43450"
   },
   "outputs": [],
   "source": [
    "from flask import url_for,redirect\n",
    "\n",
    "@app.route('/accept_user_input', methods=['GET', 'POST'])\n",
    "def accept_user_input():\n",
    "    if request.method == 'GET':\n",
    "        return render_template(\"accept_user_input.html\")\n",
    "    elif request.method == 'POST':\n",
    "        strn = url_for(\"user_form_with_name\", name=request.form.get('some_text'))\n",
    "        print(strn)\n",
    "        return redirect(strn)"
   ]
  },
  {
   "cell_type": "markdown",
   "id": "79836415",
   "metadata": {
    "id": "79836415"
   },
   "source": [
    "In the above code, you must have noticed ```methods``` being mentioned as a list with values ```'GET'``` and ```'POST'.```  \n",
    "This tells Flask to invoke this view function ```accept_user_input```, both in case of 'GET' and 'POST' message.  \n",
    "*By default all the functions are called only for GET message.*  \n",
    "\n",
    "So in case of 'GET' it renders a blank page.  \n",
    "In case case of 'POST' it calls the function ```url_for``` which returns the URL of the function name being passed. The ```redirect``` function, as the name suggests, redirects to another page.  \n",
    "\n",
    "*To build a URL to a specific function, use the **url_for()** function. It accepts the name of the function as its first argument and any number of keyword arguments, each corresponding to a variable part of the URL rule. Unknown variable parts are appended to the URL as query parameters.*  \n",
    "\n",
    "<font size=1 >From the documentation -  https://flask.palletsprojects.com/en/2.0.x/quickstart/#url-building</font>\n"
   ]
  }
 ],
 "metadata": {
  "colab": {
   "collapsed_sections": [],
   "name": "W11 - Web Development Framework - Basics.ipynb",
   "provenance": []
  },
  "kernelspec": {
   "display_name": "Python 3 (ipykernel)",
   "language": "python",
   "name": "python3"
  },
  "language_info": {
   "codemirror_mode": {
    "name": "ipython",
    "version": 3
   },
   "file_extension": ".py",
   "mimetype": "text/x-python",
   "name": "python",
   "nbconvert_exporter": "python",
   "pygments_lexer": "ipython3",
   "version": "3.10.9"
  }
 },
 "nbformat": 4,
 "nbformat_minor": 5
}
